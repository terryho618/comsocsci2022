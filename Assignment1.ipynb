{
  "cells": [
    {
      "cell_type": "markdown",
      "source": [
        "Terry Ho"
      ],
      "metadata": {
        "id": "TGElQ8Sgbf-b"
      }
    },
    {
      "cell_type": "markdown",
      "metadata": {
        "id": "suLKS_g1Yst7"
      },
      "source": [
        "# Formalia:\n",
        "\n",
        "Please read the [assignment overview page](https://github.com/lalessan/comsocsci2022/wiki/Assignments) carefully before proceeding. This page contains information about formatting (including formats etc), group sizes, and many other aspects of handing in the assignment. \n",
        "\n",
        "_If you fail to follow these simple instructions, it will negatively impact your grade!_\n",
        "\n",
        "**Due date and time**: The assignment is due on March 1st at 23:55. Hand in your Jupyter notebook file (with extension `.ipynb`) via DTU Learn _(Course Content, Assignemnts, Assignment 1)_. \n",
        "\n",
        "Remember to include in the first cell of your notebook:\n",
        "* the link to your group's Git repository\n",
        "* group members' contributions"
      ]
    },
    {
      "cell_type": "markdown",
      "metadata": {
        "id": "jPAPrbI1YsuA"
      },
      "source": [
        "# Part 1: Datasets for Computational Social Science"
      ]
    },
    {
      "cell_type": "markdown",
      "metadata": {
        "id": "pZX_JxdvYsuB"
      },
      "source": [
        "_Ten characteristics of Big Data._ Consider the dataset you have collected in Week 1, and think of the *10 characteristics of Big Data* from the book [Bit by Bit section 2.3](https://www.bitbybitbook.com/en/1st-ed/observing-behavior/characteristics/).\n",
        "> * **Big**. How large is this data (approximately)? Could you collect the same amount of information via surveys?\n",
        "> * **Always-on**. Can you keep collecting data over time?\n",
        "> * **Non-reactive**. Is the dataset non-reactive?\n",
        "> * **Incomplete**. Do you think the dataset captures entirely the unfolding of events leading to the GME stock rise in price? \n",
        "> * **Inaccessible**. Is the data accessible? \n",
        "> * **Non-representative**. Do you think that the conclusions we will draw by analyzing this dataset are specific to the GME events? Or could they instead help us understand social phenomena more in general? If yes, which phenomena could you think of? Of not, what are the aspects that make this dataset non-representative?\n",
        "> * **Drifting**. Is there any source of *drift* in this dataset (within the period observed)? \n",
        "> * **Algorithmically confounded**. Is the dataset algorithmically confounded? If yes, why?\n",
        "> * **Dirty**. What aspect may make this dataset *dirty*?\n",
        "> * **Sensitive**. Is there any sensitive information in the data?"
      ]
    },
    {
      "cell_type": "markdown",
      "source": [
        "\n",
        "\n",
        "> * **Big**: How large is this data (approximately)? Could you collect the same amount of information via surveys?\n",
        ">> * Around 14k. You can collect this many through surveys through an online questionnaire. \n",
        "> * **Always-on**. Can you keep collecting data over time?\n",
        ">> * Yes, data can be collected before, during, and after the peak of the GME frenzy.\n",
        "> * **Non-reactive**. Is the dataset non-reactive?\n",
        ">> * Yes. Most of these people commenting and making posts say whatever they want due to the anonymity of being behind a screen.\n",
        "> * **Incomplete**. Do you think the dataset captures entirely the unfolding of events leading to the GME stock rise in price? \n",
        ">> *  It does not. In order to get a full sense of what is happening, we need access to all the numbers and graphs.\n",
        "> * **Inaccessible**. Is the data accessible? \n",
        ">> * The data is accessible. Anyone on the internet can find submissions containing the word GME on a public subreddit.\n",
        "> * **Non-representative**. Do you think that the conclusions we will draw by analyzing this dataset are specific to the GME events? Or could they instead help us understand social phenomena more in general? If yes, which phenomena could you think of? Of not, what are the aspects that make this dataset non-representative?\n",
        ">> * I do not think that this dataset is representative as the data is completely from reddit users. Analyzing this dataset would not give us events only specific to GME as many users on reddit like to spread false information or talk about irrelevant information.\n",
        "> * **Drifting**. Is there any source of *drift* in this dataset (within the period observed)? \n",
        ">> * Yes, there is a source of population drift during the period observed. Initially, a lot of the people in the dataset were limited to only people who owned shares or interested in the stock. However, during the period of the stocks going up, a lot of outsiders became included in the dataset.\n",
        "> * **Algorithmically confounded**. Is the dataset algorithmically confounded? If yes, why?\n",
        ">> * Yes, the dataset is algorithmically confounded. Reddit puts popular posts on /hot or /popular, allowing people who don't follow the subreddit of /wallstreetbets to see posts about GME, which can garner the attention of those not into stocks.\n",
        "> * **Dirty**. What aspect may make this dataset *dirty*?\n",
        ">> * Spam bots might make this dataset dirty. Because GME was a hot topic during January 2021, a lot of bots infiltrated the subreddit and wrote repetitive messages or unrelated messages to GME. Some also spammed messages to distract people from the topic itself.\n",
        "> * **Sensitive**. Is there any sensitive information in the data?\n",
        ">> * There could be sensitive data in the dataset. People may share their personal stories on reddit regarding their stock journey. Some people also share what they bought and details about their stock accounts. While they are sharing this in a public space, some details might be more personal to them and a few others. \n"
      ],
      "metadata": {
        "id": "Zc9syt89k99k"
      }
    },
    {
      "cell_type": "markdown",
      "metadata": {
        "id": "W65gD7K0YsuB"
      },
      "source": [
        "# Part 2: activity on Reddit and GME prices\n"
      ]
    },
    {
      "cell_type": "markdown",
      "metadata": {
        "id": "7BP5Eg3BYsuC"
      },
      "source": [
        "\n",
        "Consider the following datasets: \n",
        " * the *GME market data*, that you can download from [here](https://finance.yahoo.com/quote/GME/history/). \n",
        " * the dataset you downloaded in Week1, Exercise 2. We will refer to this as the _comments dataset_."
      ]
    },
    {
      "cell_type": "markdown",
      "metadata": {
        "id": "PMt5FjREYsuC"
      },
      "source": [
        "> _Part 2.1 : Plotting prices and comments using line-graphs._\n",
        "> 1. Plot the daily volume of the GME stock over time using the _GME market data_. On top of the daily data, plot the rolling average, using a 7 days window (you can use the function [``pd.rolling``](https://pandas.pydata.org/pandas-docs/stable/reference/api/pandas.DataFrame.rolling.html)). Use a [log-scale on the y-axis](https://matplotlib.org/3.1.1/api/_as_gen/matplotlib.pyplot.yscale.html).\n",
        "> 2. Now make a second plot where you plot the total number of comments on Reddit per day. Follow the same steps you followed in step 1.\n",
        "> 3. What is the advantage of using the log-scale on the y-axis? What is the advantage of using a rolling-window?\n",
        "> 3. Now take a minute to __look at these two figures__. Then write in a couple of lines: What are the three most important observations you can draw by looking at the figures?"
      ]
    },
    {
      "cell_type": "code",
      "source": [
        "import matplotlib.pyplot as plt\n",
        "import pandas as pd\n",
        "\n",
        "data=pd.read_csv('GME.csv')\n",
        "Volume=data.Volume\n",
        "Time=data.Date\n",
        "  \n",
        "fig, (ax2, ax1) = plt.subplots(2)\n",
        "\n",
        "ax1.plot(Time, Volume)\n",
        "ax1.set_title('GME Volume over Time (Daily)')\n",
        "ax1.set_xticklabels([])\n",
        "\n",
        "Volume_avg=Volume.rolling(7).mean()\n",
        "  \n",
        "ax2.plot(Time, Volume_avg)\n",
        "ax2.set_title('GME Volume over Time (Weekly Average)')\n",
        "ax2.set_xticklabels([])\n",
        "ax2.set_yscale('log')\n",
        "\n",
        "plt.xlabel('Time')\n",
        "plt.ylabel('Volume')\n",
        "\n",
        "fig.show()"
      ],
      "metadata": {
        "colab": {
          "base_uri": "https://localhost:8080/",
          "height": 285
        },
        "id": "bc8cxlVOLPKP",
        "outputId": "f1861cae-3c6f-4436-8a87-e01817cac7da"
      },
      "execution_count": null,
      "outputs": [
        {
          "output_type": "display_data",
          "data": {
            "image/png": "[encoded data removed]",
            "text/plain": [
              "<Figure size 432x288 with 2 Axes>"
            ]
          },
          "metadata": {
            "needs_background": "light"
          }
        }
      ]
    },
    {
      "cell_type": "code",
      "source": [
        "data=pd.read_csv('GME_comments.csv')\n",
        "Date=data.created_utc\n",
        "type(Date)\n",
        "\n",
        "num_count = [1] * len(Date)\n",
        "date_list = [1] * len(Date)\n",
        "\n",
        "for i in range(0,len(Date)-1):\n",
        "    date_list[i]=Date[i]\n",
        "    # print(date_list[i])\n",
        "    if(Date[i] == Date[i+1]):\n",
        "      num_count[i]+=1\n",
        "      num_count[i+1]=0\n",
        "      date_list[i+1]=0\n",
        "\n",
        "while 0 in num_count: \n",
        "  index = num_count.index(0)\n",
        "  del date_list[index]\n",
        "  num_count.remove(0)\n",
        "\n",
        "count_list_s = pd.Series(num_count)\n",
        "date_list_s = pd.Series(date_list)\n",
        "\n",
        "fig, (ax2, ax1) = plt.subplots(2)\n",
        "\n",
        "ax1.plot(date_list_s, count_list_s)\n",
        "ax1.set_title('GME Comments over Time (Daily)')\n",
        "ax1.set_xticklabels([])\n",
        "\n",
        "count_avg=count_list_s.rolling(7).mean()\n",
        "time_avg=date_list_s.rolling(7).mean()\n",
        "\n",
        "ax2.plot(time_avg, count_avg)\n",
        "ax2.set_title('GME Comments over Time (Weekly Average)')\n",
        "ax2.set_xticklabels([])\n",
        "ax2.set_yscale('log')\n",
        "\n",
        "plt.xlabel('Time')\n",
        "plt.ylabel('Comments')\n",
        "\n",
        "fig.show()"
      ],
      "metadata": {
        "colab": {
          "base_uri": "https://localhost:8080/",
          "height": 285
        },
        "id": "y-kGTFtLV6Ij",
        "outputId": "9ff453be-252a-4b4f-ea86-8aa9b3d259cd"
      },
      "execution_count": null,
      "outputs": [
        {
          "output_type": "display_data",
          "data": {
            "image/png": "[encoded data removed]",
            "text/plain": [
              "<Figure size 432x288 with 2 Axes>"
            ]
          },
          "metadata": {
            "needs_background": "light"
          }
        }
      ]
    },
    {
      "cell_type": "markdown",
      "source": [
        "3. Having these graphs on a log scale allows us to see this large dataset in more detail. Since the values of the volume and comments are in such a large range, the only thing we can see is a \"straight\" line for most of the graph until 2021. However, log scale is able to show more detail for 2020 as well. The advantage of rolling window is that it updates the average each new row. This places less emphasis on the really old values.\n",
        "\n",
        "4. The graphs displaying the weekly average uses the rolling window method and logarithmic scale. As shown in the weekly Volume over Time graph, we can more clearly see the volume for each week. In the daily graph, most of 2020 is hard to see just by looking. It is somewhat similar for the comments graphs. However, even in the weekly graph, most of 2020 have no comments on the subreddit."
      ],
      "metadata": {
        "id": "V63T_m5gqWcg"
      }
    },
    {
      "cell_type": "markdown",
      "metadata": {
        "id": "yX0okY06YsuD"
      },
      "source": [
        "\n",
        "> _Part 2.2: Returns vs number of comments using scatter-plots_.\n",
        "> In this part of the assignment, we will look at the association between GME market indicators and the volume of comments on Reddit. \n",
        "> 1. Compute the daily log-returns as ``np.log(Close_price(t)/Close_price(t-1))``, where ``Close_price(t)`` is the Close Price of GME on day t. You can use the function [pd.Series.shift](https://pandas.pydata.org/pandas-docs/stable/reference/api/pandas.Series.shift.html). Working with log-returns instead of regular returns is a standard thing to do in economics, if you are interested in why, check out [this blog post](https://quantivity.wordpress.com/2011/02/21/why-log-returns/).\n",
        "> 2. Compute the daily log-change in number of new comments as ``np.log(comments(t)/comments(t-1))`` where ``comments(t)`` is the number of comments on day t. \n",
        "> 3. Compute the correlation coefficient (find the formula in the Data Visualization book, section 12.2) between the series computed in step 1 and step 2 (note that you need to first remove days without any comments from the time-series). Is the correlation statistically significant? \n",
        "> 4. Make a [scatter plot](https://matplotlib.org/api/_as_gen/matplotlib.pyplot.scatter.html) of the daily log-return on investment for the GME stock against the daily log-change in number of comments. Color the markers for 2020 and 2021 in different colors, and make the marker size proportional to the Close price. \n",
        "> 5. Now take a minute to __look at the figure you just prepared__. Then write in a couple of lines: What are the three most salient observations you can draw by looking at it? \n",
        "> 6. Based on the exploratory data visualization in Exercises 2 and 3, what can you conclude on the research question: *Is the activity on wallstreetbet related to the price of the GME stock?*\n"
      ]
    },
    {
      "cell_type": "code",
      "source": [
        "import pandas as pd\n",
        "import numpy as np\n",
        "\n",
        "gme=pd.read_csv('GME.csv')\n",
        "\n",
        "# comments = comments.query(\"created_utc < 1609372800\")\n",
        "# comments = comments[comments.author != '[deleted]']\n",
        "# submissions = submissions.query(\"created_utc < 1609372800\")\n",
        "# submissions = submissions[submissions.author != '[deleted]']\n",
        "\n",
        "# comment_id = comments.id\n",
        "\n",
        "comments=pd.read_csv('GME_comments.csv')\n",
        "# comments = comments.query(\"created_utc < 1609372800\")\n",
        "# comments = comments[comments.author != '[deleted]']\n",
        "\n",
        "# submissions=pd.read_csv('GME_submissions.csv')\n",
        "# submissions = submissions.query(\"created_utc < 1609372800\")\n",
        "# submissions = submissions[submissions.author != '[deleted]']\n",
        "\n",
        "# def sum_keys(d):\n",
        "#     return (len(d) + sum(sum_keys(v) for v in d.itervalues()))\n",
        "# for key, value in comments.items():\n",
        "#     #print value\n",
        "#     print(key, len(filter(bool, value)))\n",
        "\n",
        "comment_id = comments.id\n",
        "comment_author = comments.author\n",
        "comment_count = comments.groupby(['created_utc']).count()\n",
        "\n",
        "\n",
        "close = gme.Close\n",
        "open = gme.Open\n",
        "t = 1\n",
        "daily_return = np.log(close[t]/close[t-1])\n",
        "\n",
        "# daily_comments = np.log(comment_count(t)/comment_count(t-1))"
      ],
      "metadata": {
        "id": "0joRZ8rv46bV"
      },
      "execution_count": 17,
      "outputs": []
    },
    {
      "cell_type": "markdown",
      "source": [
        "The activity on wallstreetbets is related to the GME stock. Whenever there was more activity, GME stock was at its peak."
      ],
      "metadata": {
        "id": "niEkmf5tYRM_"
      }
    },
    {
      "cell_type": "markdown",
      "metadata": {
        "id": "I4f_SHrMYsuE"
      },
      "source": [
        "#  Part 3: Exercises using the `NetworkX` library\n",
        "\n",
        "> Solve the following exercises from your [Network Science book](http://networksciencebook.com).\n",
        "> * Go to Section 2.12: [Homework](http://networksciencebook.com/chapter/2#homework2), then\n",
        ">     * Write the solution for exercise 2.1 (the 'Königsberg Problem') from NS in your notebook.\n",
        ">     * Solve exercise 2.3 ('Graph representation') from NS using NetworkX in your notebook. (You don't have to solve the last sub-question about cycles of length 4).\n",
        ">     * Solve exercise 2.5 ('Bipartite Networks') from NS using NetworkX in your notebook."
      ]
    },
    {
      "cell_type": "markdown",
      "source": [
        "1. Königsberg Problem \\\\\n",
        "According to Euler's proof, the problem is only solvable if all vertices in the graph had an even number of edges connecting to it. Using this information, only **C** is solvable. All the vertices in C have an even degree."
      ],
      "metadata": {
        "id": "TOgIFK0ILxmr"
      }
    },
    {
      "cell_type": "code",
      "source": [
        "#2. Graph Representation\n",
        "import networkx as nx\n",
        "a = nx.Graph({1: (2,3,4,6), 2: (1,3,4), 3: (1,2,6), 4: (1,2), 5:(), 6:(1,3)})\n",
        "cood = [(1,2,1),(2,3,1),(2,4,1),(3,2,1),(3,1,1),(4,1,1),(6,1,1),(6,3,1)]\n",
        "b = nx.Graph()\n",
        "b.add_weighted_edges_from(cood)\n",
        "b.add_node(5)\n",
        "\n",
        "\n",
        "import matplotlib.pyplot as plt\n",
        "\n",
        "ax1 = plt.subplot(121)\n",
        "nx.draw_shell(a, with_labels=True, font_weight='bold')\n",
        "ax2 = plt.subplot(122)\n",
        "nx.draw_shell(b, with_labels=True, font_weight='bold')\n",
        "\n",
        "\n",
        "print('Adjacency Matrix for A\\n')\n",
        "mat1 = nx.adjacency_matrix(a)\n",
        "print(mat1.todense())\n",
        "\n",
        "print('\\nAdjacency Matrix for B\\n')\n",
        "mat2 = nx.adjacency_matrix(b)\n",
        "print(mat2.todense())\n",
        "\n",
        "print('\\nAdjacency List for A\\n')\n",
        "for line in nx.generate_adjlist(a):\n",
        "  print(line)\n",
        "\n",
        "print('\\nAdjacency List for B\\n')\n",
        "for line in nx.generate_adjlist(b):\n",
        "  print(line)\n",
        "\n",
        "#Switching 5 with 6\n",
        "\n",
        "a2 = nx.Graph({1: (2,3,4,5), 2: (1,3,4), 3: (1,2,5), 4: (1,2), 6:(), 5:(1,3)})\n",
        "cood = [(1,2,1),(2,3,1),(2,4,1),(3,2,1),(3,1,1),(4,1,1),(5,1,1),(5,3,1)]\n",
        "b2 = nx.Graph()\n",
        "b2.add_weighted_edges_from(cood)\n",
        "b2.add_node(6)\n",
        "\n",
        "print('\\nSwitching 5 and 6\\n')\n",
        "print('\\nAdjacency Matrix for A\\n')\n",
        "mat1 = nx.adjacency_matrix(a2)\n",
        "print(mat1.todense())\n",
        "\n",
        "print('\\nAdjacency Matrix for B\\n')\n",
        "mat2 = nx.adjacency_matrix(b2)\n",
        "print(mat2.todense())\n",
        "\n",
        "print('\\nAdjacency List for A\\n')\n",
        "for line in nx.generate_adjlist(a2):\n",
        "  print(line)\n",
        "\n",
        "print('\\n\\nAdjacency List for B')\n",
        "for line in nx.generate_adjlist(b2):\n",
        "  print(line)"
      ],
      "metadata": {
        "colab": {
          "base_uri": "https://localhost:8080/",
          "height": 1000
        },
        "id": "igkIhPnsGbqO",
        "outputId": "7ef9ebc7-782d-4a53-a49f-5113c0cfd842"
      },
      "execution_count": 11,
      "outputs": [
        {
          "output_type": "stream",
          "name": "stdout",
          "text": [
            "Adjacency Matrix for A\n",
            "\n",
            "[[0 1 1 1 0 1]\n",
            " [1 0 1 1 0 0]\n",
            " [1 1 0 0 0 1]\n",
            " [1 1 0 0 0 0]\n",
            " [0 0 0 0 0 0]\n",
            " [1 0 1 0 0 0]]\n",
            "\n",
            "Adjacency Matrix for B\n",
            "\n",
            "[[0 1 1 1 1 0]\n",
            " [1 0 1 1 0 0]\n",
            " [1 1 0 0 1 0]\n",
            " [1 1 0 0 0 0]\n",
            " [1 0 1 0 0 0]\n",
            " [0 0 0 0 0 0]]\n",
            "\n",
            "Adjacency List for A\n",
            "\n",
            "1 2 3 4 6\n",
            "2 3 4\n",
            "3 6\n",
            "4\n",
            "5\n",
            "6\n",
            "\n",
            "Adjacency List for B\n",
            "\n",
            "1 2 3 4 6\n",
            "2 3 4\n",
            "3 6\n",
            "4\n",
            "6\n",
            "5\n",
            "\n",
            "Switching 5 and 6\n",
            "\n",
            "\n",
            "Adjacency Matrix for A\n",
            "\n",
            "[[0 1 1 1 0 1]\n",
            " [1 0 1 1 0 0]\n",
            " [1 1 0 0 0 1]\n",
            " [1 1 0 0 0 0]\n",
            " [0 0 0 0 0 0]\n",
            " [1 0 1 0 0 0]]\n",
            "\n",
            "Adjacency Matrix for B\n",
            "\n",
            "[[0 1 1 1 1 0]\n",
            " [1 0 1 1 0 0]\n",
            " [1 1 0 0 1 0]\n",
            " [1 1 0 0 0 0]\n",
            " [1 0 1 0 0 0]\n",
            " [0 0 0 0 0 0]]\n",
            "\n",
            "Adjacency List for A\n",
            "\n",
            "1 2 3 4 5\n",
            "2 3 4\n",
            "3 5\n",
            "4\n",
            "6\n",
            "5\n",
            "\n",
            "\n",
            "Adjacency List for B\n",
            "1 2 3 4 5\n",
            "2 3 4\n",
            "3 5\n",
            "4\n",
            "5\n",
            "6\n"
          ]
        },
        {
          "output_type": "display_data",
          "data": {
            "image/png": "[encoded data removed]",
            "text/plain": [
              "<Figure size 432x288 with 2 Axes>"
            ]
          },
          "metadata": {}
        }
      ]
    },
    {
      "cell_type": "markdown",
      "source": [
        "*   Clustering coefficient of (a)\n",
        "  * Ci = 2Li/(Ki*(Ki-1))\n",
        "  * C1 = (2*3)/(4*3) = 6/12 = 1/2\n",
        "  * C2 = (2*2)/(3*2) = 4/6 = 2/3\n",
        "  * C3 = (2*2)/(3*2) = 4/6 = 2/3\n",
        "  * C4 = (2*1)/(2*1) = 2/2 = 1\n",
        "  * C5 = 0\n",
        "  * C6 = (2*1)/(2*1) = 4/4 = 1\n",
        "  * **Average CC = 23/36 = 0.639**\n",
        "*   One can infer whether a network is undirected or directed by the symmetry of the matrix. If the graph is undirected, the graph is symmetrical. However, it would be much harder to infer this from a linked list as you would have to traverse through many more items. One can also immediately tell whether there is a direct edge between two nodes. It would be much harder in an adjacency list.\n",
        "*  How many paths of length 3 exist(start 1, end 3)?\n",
        "  * a: (1>4>2>3), (1>2>1>3), (1>6>1>3), (1>4>1>3), (1,3>1,3), (1,3>2>3), (1,3,6,3) = **7 paths**\n",
        "  * b: **0 paths**\n"
      ],
      "metadata": {
        "id": "or3udX3nw3xs"
      }
    },
    {
      "cell_type": "code",
      "source": [
        "#2.5 Bipartite Networks\n",
        "import networkx as nx\n",
        "\n",
        "C = nx.Graph()\n",
        "purple = [1,2,3,4,5,6]\n",
        "C.add_nodes_from([1,2,3,4,5,6], bipartite=0)\n",
        "C.add_nodes_from([7,8,9,10,11], bipartite=1)\n",
        "C.add_edges_from([(1,7), (2,9), (3,7), (3,8), (3,9), (4,9), (4,10), (5,9), (5,11), (6,11),\n",
        "                  (7,1),(7,3),(8,3),(9,3),(9,4),(9,5),(10,4),(11,5),(11,6)])\n",
        "\n",
        "top = nx.bipartite.sets(C)[0]\n",
        "pos = nx.bipartite_layout(C, top)\n",
        "nx.draw(C, pos=pos, with_labels=True, node_color=['blue','blue','blue','blue','blue','blue','green','green','green','green','green'])\n",
        "plt.show()\n",
        "\n",
        "\n",
        "print('Adjacency Matrix for C\\n')\n",
        "mat3 = nx.adjacency_matrix(C)\n",
        "print(mat3.todense())\n",
        "\n",
        "print('\\nAdjacency List for C\\n')\n",
        "for line in nx.generate_adjlist(C):\n",
        "  print(line)\n",
        "\n",
        "print('\\nNode Degrees\\n')\n",
        "print([val for (node,val) in C.degree()])\n",
        "print('\\nNode Degree Average for Purple\\n')\n",
        "print((1+1+3+2+2+1)/6)\n",
        "print('\\nNode Degree Average for Green\\n')\n",
        "print((2+1+4+1+2)/5)\n",
        "\n",
        "# print('Adjacency Matrix for C (purple)\\n')\n",
        "# mat3 = nx.adjacency_matrix(C)\n",
        "# print(mat3.todense())\n",
        "\n",
        "# print('Adjacency Matrix for C (green)\\n')\n",
        "# mat3 = nx.adjacency_matrix(C)\n",
        "# print(mat3.todense())"
      ],
      "metadata": {
        "colab": {
          "base_uri": "https://localhost:8080/",
          "height": 996
        },
        "id": "D0HwoIyXm_Or",
        "outputId": "d2a58b87-55b4-4c95-c899-4506c41f685c"
      },
      "execution_count": 12,
      "outputs": [
        {
          "output_type": "display_data",
          "data": {
            "image/png": "[encoded data removed]",
            "text/plain": [
              "<Figure size 432x288 with 1 Axes>"
            ]
          },
          "metadata": {}
        },
        {
          "output_type": "stream",
          "name": "stdout",
          "text": [
            "Adjacency Matrix for C\n",
            "\n",
            "[[0 0 0 0 0 0 1 0 0 0 0]\n",
            " [0 0 0 0 0 0 0 0 1 0 0]\n",
            " [0 0 0 0 0 0 1 1 1 0 0]\n",
            " [0 0 0 0 0 0 0 0 1 1 0]\n",
            " [0 0 0 0 0 0 0 0 1 0 1]\n",
            " [0 0 0 0 0 0 0 0 0 0 1]\n",
            " [1 0 1 0 0 0 0 0 0 0 0]\n",
            " [0 0 1 0 0 0 0 0 0 0 0]\n",
            " [0 1 1 1 1 0 0 0 0 0 0]\n",
            " [0 0 0 1 0 0 0 0 0 0 0]\n",
            " [0 0 0 0 1 1 0 0 0 0 0]]\n",
            "\n",
            "Adjacency List for C\n",
            "\n",
            "1 7\n",
            "2 9\n",
            "3 7 8 9\n",
            "4 9 10\n",
            "5 9 11\n",
            "6 11\n",
            "7\n",
            "8\n",
            "9\n",
            "10\n",
            "11\n",
            "\n",
            "Node Degrees\n",
            "\n",
            "[1, 1, 3, 2, 2, 1, 2, 1, 4, 1, 2]\n",
            "\n",
            "Node Degree Average for Purple\n",
            "\n",
            "1.6666666666666667\n",
            "\n",
            "Node Degree Average for Green\n",
            "\n",
            "2.0\n"
          ]
        }
      ]
    },
    {
      "cell_type": "markdown",
      "source": [
        "It is a block-diagonal matrix since it is a square matrix with 11x11 elements."
      ],
      "metadata": {
        "id": "qolWi5CCvS0x"
      }
    },
    {
      "cell_type": "markdown",
      "metadata": {
        "id": "C0Rw_czzYsuE"
      },
      "source": [
        "# Part 4: Properties of the real-world network of Redditors"
      ]
    },
    {
      "cell_type": "markdown",
      "metadata": {
        "id": "Xfgdg67eYsuF"
      },
      "source": [
        "For this part of the assignment, consider the directed network of redditors posting about GME on r/wallstreetbets in the period included between Jan 1st and Dec 31st, 2020 (the one you built in Week 3, Part 3).\n",
        "\n",
        "> _Part 4.1 Random Network_: Create a Random Network as a null model to investigate some properties of the Redditors Network.\n",
        "> * Compute the value of _p_ such that the number of expected edges of the random network equals the number of edges in the redditor network (see equation 3.2 in your Network Science Book). What is the value of p? Compute the average value of the degree < k > (using the formula). \\\\\n",
        "* <k> = 2(L) / N = p(N-1)\n",
        "> * Create a Random network with the same number of nodes as the redditor networks, and _p_ as computed above. Generate a random network by linking nodes in every possible pair with probability _p_.\n",
        "> * Visualize the Redditors Network and the Random Network. Comment on the differences between the two.\n",
        ">\n",
        "> _Part 4.2 Clustering_: Compare the clustering coefficient in the Redditors Network and its random counterpart.\n",
        "> * Compute the clustering coefficient for all nodes in the random network, using the formula 2.15 in your book.  \n",
        "> * Compute the average clustering across nodes of the random network. Is it consistent with the analytical prediction (network science book equation 3.21)?\n",
        "> * Compute the average clustering coefficient for the Redditors network. How does it compare to its random counterpart? Is it something you would expect? Why?"
      ]
    },
    {
      "cell_type": "code",
      "source": [
        "import pandas as pd\n",
        "import networkx as nx\n",
        "#import itertools \n",
        "comments=pd.read_csv('GME_comments.csv')\n",
        "submissions=pd.read_csv('GME_submissions.csv')\n",
        "comments = comments.query(\"created_utc < 1609372800\")\n",
        "comments = comments[comments.author != '[deleted]']\n",
        "submissions = submissions.query(\"created_utc < 1609372800\")\n",
        "submissions = submissions[submissions.author != '[deleted]']\n",
        "\n",
        "comment_id = comments.id\n",
        "comment_author = comments.author\n",
        "parent_id = comments.parent_id\n",
        "submission_id = submissions.id\n",
        "submission_author = submissions.author\n",
        "\n",
        "comment_authors = dict(zip(comment_id, comment_author))\n",
        "parent = dict(zip(comment_id , parent_id))\n",
        "submission_authors = dict(zip(submission_id, submission_author))\n",
        "\n",
        "def comment_to_author(id):\n",
        "  author = ''\n",
        "  parent_found = parent[id]\n",
        "  parent_found1 = parent_found\n",
        "  if('t1_'==parent_found[:3]):\n",
        "    author = comment_authors[id]\n",
        "  if('t3_'==parent_found[:3]):\n",
        "    author = submission_author.get(id)\n",
        "  return author\n",
        "\n",
        "parent_author = [''] * len(comments)\n",
        "\n",
        "x = 0\n",
        "for i in comment_id:\n",
        "  parent_author[x] = comment_to_author(i)\n",
        "  x += 1\n",
        "\n",
        "comments['parent_author'] = parent_author\n",
        "\n",
        "comments= comments.groupby(['author', 'parent_author']).count()\n",
        "\n",
        "# print(comments)\n",
        "# G = nx.Graph()\n",
        "\n",
        "# G = nx.from_pandas_edgelist(comments, edge_attr=True)\n",
        "\n",
        "# G.add_nodes_from(comments.groupby(['author','parent_author']).count())\n",
        "\n",
        "# print(G.edges())\n",
        "\n",
        "# H=nx.from_pandas_edgelist(comments,edge_attr=True)\n",
        "\n",
        "# G=nx.Graph()\n",
        "# G.add_weighted_edges_from(comments)\n",
        "\n",
        "# gnm_random_graph"
      ],
      "metadata": {
        "id": "Ee2wmQvXQWbA"
      },
      "execution_count": 18,
      "outputs": []
    },
    {
      "cell_type": "code",
      "execution_count": null,
      "metadata": {
        "colab": {
          "base_uri": "https://localhost:8080/",
          "height": 450
        },
        "id": "IEdGWMuhYsuG",
        "outputId": "5203de13-15cf-48d7-83b4-b77f2213adc3"
      },
      "outputs": [
        {
          "output_type": "stream",
          "name": "stderr",
          "text": [
            "/usr/local/lib/python3.7/dist-packages/psaw/PushshiftAPI.py:192: UserWarning: Got non 200 code 502\n",
            "  warnings.warn(\"Got non 200 code %s\" % response.status_code)\n",
            "/usr/local/lib/python3.7/dist-packages/psaw/PushshiftAPI.py:180: UserWarning: Unable to connect to pushshift.io. Retrying after backoff.\n",
            "  warnings.warn(\"Unable to connect to pushshift.io. Retrying after backoff.\")\n"
          ]
        },
        {
          "output_type": "error",
          "ename": "Exception",
          "evalue": "ignored",
          "traceback": [
            "\u001b[0;31m---------------------------------------------------------------------------\u001b[0m",
            "\u001b[0;31mException\u001b[0m                                 Traceback (most recent call last)",
            "\u001b[0;32m<ipython-input-8-7820a3f7f12b>\u001b[0m in \u001b[0;36m<module>\u001b[0;34m()\u001b[0m\n\u001b[1;32m      9\u001b[0m                             \u001b[0msubreddit\u001b[0m\u001b[0;34m=\u001b[0m\u001b[0;34m'wallstreetbets'\u001b[0m\u001b[0;34m,\u001b[0m\u001b[0;34m\u001b[0m\u001b[0;34m\u001b[0m\u001b[0m\n\u001b[1;32m     10\u001b[0m                             \u001b[0mq\u001b[0m\u001b[0;34m=\u001b[0m\u001b[0;34m'GME|Gamestop'\u001b[0m\u001b[0;34m,\u001b[0m\u001b[0;34m\u001b[0m\u001b[0;34m\u001b[0m\u001b[0m\n\u001b[0;32m---> 11\u001b[0;31m                             \u001b[0mmax_results_per_request\u001b[0m\u001b[0;34m=\u001b[0m\u001b[0;36m100\u001b[0m\u001b[0;34m\u001b[0m\u001b[0;34m\u001b[0m\u001b[0m\n\u001b[0m\u001b[1;32m     12\u001b[0m                             ))\n\u001b[1;32m     13\u001b[0m \u001b[0;34m\u001b[0m\u001b[0m\n",
            "\u001b[0;32m/usr/local/lib/python3.7/dist-packages/psaw/PushshiftAPI.py\u001b[0m in \u001b[0;36m_search\u001b[0;34m(self, kind, stop_condition, return_batch, dataset, **kwargs)\u001b[0m\n\u001b[1;32m    236\u001b[0m         \u001b[0mendpoint\u001b[0m \u001b[0;34m=\u001b[0m \u001b[0;34m'{dataset}/{kind}/search'\u001b[0m\u001b[0;34m.\u001b[0m\u001b[0mformat\u001b[0m\u001b[0;34m(\u001b[0m\u001b[0mdataset\u001b[0m\u001b[0;34m=\u001b[0m\u001b[0mdataset\u001b[0m\u001b[0;34m,\u001b[0m \u001b[0mkind\u001b[0m\u001b[0;34m=\u001b[0m\u001b[0mkind\u001b[0m\u001b[0;34m)\u001b[0m\u001b[0;34m\u001b[0m\u001b[0;34m\u001b[0m\u001b[0m\n\u001b[1;32m    237\u001b[0m         \u001b[0murl\u001b[0m \u001b[0;34m=\u001b[0m \u001b[0mself\u001b[0m\u001b[0;34m.\u001b[0m\u001b[0mbase_url\u001b[0m\u001b[0;34m.\u001b[0m\u001b[0mformat\u001b[0m\u001b[0;34m(\u001b[0m\u001b[0mendpoint\u001b[0m\u001b[0;34m=\u001b[0m\u001b[0mendpoint\u001b[0m\u001b[0;34m)\u001b[0m\u001b[0;34m\u001b[0m\u001b[0;34m\u001b[0m\u001b[0m\n\u001b[0;32m--> 238\u001b[0;31m         \u001b[0;32mfor\u001b[0m \u001b[0mresponse\u001b[0m \u001b[0;32min\u001b[0m \u001b[0mself\u001b[0m\u001b[0;34m.\u001b[0m\u001b[0m_handle_paging\u001b[0m\u001b[0;34m(\u001b[0m\u001b[0murl\u001b[0m\u001b[0;34m)\u001b[0m\u001b[0;34m:\u001b[0m\u001b[0;34m\u001b[0m\u001b[0;34m\u001b[0m\u001b[0m\n\u001b[0m\u001b[1;32m    239\u001b[0m             \u001b[0;32mif\u001b[0m \u001b[0;34m'aggs'\u001b[0m \u001b[0;32min\u001b[0m \u001b[0mresponse\u001b[0m\u001b[0;34m:\u001b[0m\u001b[0;34m\u001b[0m\u001b[0;34m\u001b[0m\u001b[0m\n\u001b[1;32m    240\u001b[0m                 \u001b[0;32myield\u001b[0m \u001b[0mresponse\u001b[0m\u001b[0;34m[\u001b[0m\u001b[0;34m'aggs'\u001b[0m\u001b[0;34m]\u001b[0m\u001b[0;34m\u001b[0m\u001b[0;34m\u001b[0m\u001b[0m\n",
            "\u001b[0;32m/usr/local/lib/python3.7/dist-packages/psaw/PushshiftAPI.py\u001b[0m in \u001b[0;36m_handle_paging\u001b[0;34m(self, url)\u001b[0m\n\u001b[1;32m    213\u001b[0m             \u001b[0mself\u001b[0m\u001b[0;34m.\u001b[0m\u001b[0m_add_nec_args\u001b[0m\u001b[0;34m(\u001b[0m\u001b[0mself\u001b[0m\u001b[0;34m.\u001b[0m\u001b[0mpayload\u001b[0m\u001b[0;34m)\u001b[0m\u001b[0;34m\u001b[0m\u001b[0;34m\u001b[0m\u001b[0m\n\u001b[1;32m    214\u001b[0m \u001b[0;34m\u001b[0m\u001b[0m\n\u001b[0;32m--> 215\u001b[0;31m             \u001b[0mdata\u001b[0m \u001b[0;34m=\u001b[0m \u001b[0mself\u001b[0m\u001b[0;34m.\u001b[0m\u001b[0m_get\u001b[0m\u001b[0;34m(\u001b[0m\u001b[0murl\u001b[0m\u001b[0;34m,\u001b[0m \u001b[0mself\u001b[0m\u001b[0;34m.\u001b[0m\u001b[0mpayload\u001b[0m\u001b[0;34m)\u001b[0m\u001b[0;34m\u001b[0m\u001b[0;34m\u001b[0m\u001b[0m\n\u001b[0m\u001b[1;32m    216\u001b[0m             \u001b[0;32myield\u001b[0m \u001b[0mdata\u001b[0m\u001b[0;34m\u001b[0m\u001b[0;34m\u001b[0m\u001b[0m\n\u001b[1;32m    217\u001b[0m             \u001b[0;32mif\u001b[0m \u001b[0mlimit\u001b[0m \u001b[0;32mis\u001b[0m \u001b[0;32mnot\u001b[0m \u001b[0;32mNone\u001b[0m\u001b[0;34m:\u001b[0m\u001b[0;34m\u001b[0m\u001b[0;34m\u001b[0m\u001b[0m\n",
            "\u001b[0;32m/usr/local/lib/python3.7/dist-packages/psaw/PushshiftAPI.py\u001b[0m in \u001b[0;36m_get\u001b[0;34m(self, url, payload)\u001b[0m\n\u001b[1;32m    192\u001b[0m                 \u001b[0mwarnings\u001b[0m\u001b[0;34m.\u001b[0m\u001b[0mwarn\u001b[0m\u001b[0;34m(\u001b[0m\u001b[0;34m\"Got non 200 code %s\"\u001b[0m \u001b[0;34m%\u001b[0m \u001b[0mresponse\u001b[0m\u001b[0;34m.\u001b[0m\u001b[0mstatus_code\u001b[0m\u001b[0;34m)\u001b[0m\u001b[0;34m\u001b[0m\u001b[0;34m\u001b[0m\u001b[0m\n\u001b[1;32m    193\u001b[0m         \u001b[0;32mif\u001b[0m \u001b[0;32mnot\u001b[0m \u001b[0msuccess\u001b[0m\u001b[0;34m:\u001b[0m\u001b[0;34m\u001b[0m\u001b[0;34m\u001b[0m\u001b[0m\n\u001b[0;32m--> 194\u001b[0;31m             \u001b[0;32mraise\u001b[0m \u001b[0mException\u001b[0m\u001b[0;34m(\u001b[0m\u001b[0;34m\"Unable to connect to pushshift.io. Max retries exceeded.\"\u001b[0m\u001b[0;34m)\u001b[0m\u001b[0;34m\u001b[0m\u001b[0;34m\u001b[0m\u001b[0m\n\u001b[0m\u001b[1;32m    195\u001b[0m         \u001b[0;32mreturn\u001b[0m \u001b[0mjson\u001b[0m\u001b[0;34m.\u001b[0m\u001b[0mloads\u001b[0m\u001b[0;34m(\u001b[0m\u001b[0mresponse\u001b[0m\u001b[0;34m.\u001b[0m\u001b[0mtext\u001b[0m\u001b[0;34m)\u001b[0m\u001b[0;34m\u001b[0m\u001b[0;34m\u001b[0m\u001b[0m\n\u001b[1;32m    196\u001b[0m \u001b[0;34m\u001b[0m\u001b[0m\n",
            "\u001b[0;31mException\u001b[0m: Unable to connect to pushshift.io. Max retries exceeded."
          ]
        }
      ],
      "source": [
        "# from psaw import PushshiftAPI\n",
        "# import pandas as pd\n",
        "\n",
        "# #r = praw.Reddit(...)\n",
        "# api = PushshiftAPI()\n",
        "\n",
        "# submissions = list(api.search_submissions(after=1577833200,\n",
        "#                             before=1611615599,\n",
        "#                             subreddit='wallstreetbets',\n",
        "#                             q='GME|Gamestop',\n",
        "#                             ))\n",
        "\n",
        "# df = pd.DataFrame([submissions])\n",
        "\n",
        "# df.to_csv('ex1.csv', index=False, encoding='utf-8') "
      ]
    }
  ],
  "metadata": {
    "anaconda-cloud": {},
    "colab": {
      "name": "Assignment1.ipynb",
      "provenance": [],
      "collapsed_sections": []
    },
    "kernelspec": {
      "display_name": "Python 3 (ipykernel)",
      "language": "python",
      "name": "python3"
    },
    "language_info": {
      "codemirror_mode": {
        "name": "ipython",
        "version": 3
      },
      "file_extension": ".py",
      "mimetype": "text/x-python",
      "name": "python",
      "nbconvert_exporter": "python",
      "pygments_lexer": "ipython3",
      "version": "3.9.7"
    }
  },
  "nbformat": 4,
  "nbformat_minor": 0
}